{
 "cells": [
  {
   "cell_type": "markdown",
   "id": "27f24e15-e1de-4e4e-9d08-97719668918b",
   "metadata": {},
   "source": [
    "# <p style=\"padding:10px;background-color:#87CEEB ;margin:10;color:#000000;font-family:newtimeroman;font-size:100%;text-align:center;border-radius: 10px 10px ;overflow:hidden;font-weight:50\">Question 1</p>"
   ]
  },
  {
   "cell_type": "markdown",
   "id": "ecd0304a-04f7-4171-8047-0162b6abda08",
   "metadata": {},
   "source": [
    "# Create and deploy a ML project by i\\porting load_breast_cancer dataset fro\\ sklearnIload_dataset and apply the followingF\n",
    "## Q1. Create a folder in which you want to create the project, after that use the git init and the necessary commands to create the specific git repository/"
   ]
  },
  {
   "cell_type": "markdown",
   "id": "1463d5bc-d276-492d-a8e1-61f2c7407fd9",
   "metadata": {},
   "source": [
    "# Breast Cancer Detection Project\n",
    "\n",
    "## Overview\n",
    "This project aims to develop a machine learning model for the detection of breast cancer using the breast cancer dataset from scikit-learn.\n",
    "\n",
    "## Project Setup\n",
    "Follow the steps below to set up the project:\n",
    "\n",
    "1. **Create a Folder:**  \n",
    "   Open your terminal or command prompt and navigate to the directory where you want to create the project folder. Then, create the folder using the `mkdir` command. For example:\n"
   ]
  },
  {
   "cell_type": "code",
   "execution_count": 18,
   "id": "cb505dbb-4323-416c-ac15-bfd539415df2",
   "metadata": {},
   "outputs": [],
   "source": [
    "mkdir breast_cancer_detection_project\n"
   ]
  },
  {
   "cell_type": "markdown",
   "id": "d45d6ba4-637a-4a66-ba91-e606f76eba95",
   "metadata": {},
   "source": [
    "\n",
    "2. **Navigate into the Project Folder:**  \n",
    "Move into the newly created folder using the `cd` command:\n"
   ]
  },
  {
   "cell_type": "code",
   "execution_count": 25,
   "id": "6f10b4c3-110d-4891-9982-e1e0f4695a95",
   "metadata": {},
   "outputs": [
    {
     "name": "stdout",
     "output_type": "stream",
     "text": [
      "[Errno 2] No such file or directory: 'breast_cancer_detection_project'\n",
      "/home/jovyan/work/breast_cancer_detection_project\n"
     ]
    }
   ],
   "source": [
    "cd breast_cancer_detection_project"
   ]
  },
  {
   "cell_type": "markdown",
   "id": "59ec32c4-1d59-4f54-9fb3-dd2d2aa1e9d8",
   "metadata": {},
   "source": [
    "\n",
    "3. **Initialize Git Repository:**  \n",
    "Initialize a Git repository in the project folder using the `git init` command:\n"
   ]
  },
  {
   "cell_type": "markdown",
   "id": "711a06f8-77b5-4238-a266-dd8caaaf78c5",
   "metadata": {},
   "source": [
    "### git init"
   ]
  },
  {
   "cell_type": "markdown",
   "id": "f132e2cf-5f75-4cf9-b2ff-dfbaa9064a1b",
   "metadata": {},
   "source": [
    "\n",
    "4. **Create a README File:**  \n",
    "It's a good practice to create a README file to provide information about your project. You can create it using any text editor or use the command line to create it. For example:\n",
    "\n"
   ]
  },
  {
   "cell_type": "markdown",
   "id": "7eca2b1d-657a-4859-88b4-3b478d8d60a6",
   "metadata": {},
   "source": [
    "### touch README.md"
   ]
  },
  {
   "cell_type": "markdown",
   "id": "95b26464-82fd-40b7-8c02-54afaec04491",
   "metadata": {},
   "source": [
    "\n",
    "5. **Add a .gitignore File (Optional):**  \n",
    "If you're using any specific IDE or tools for your project, you might want to create a `.gitignore` file to exclude certain files or directories from version control. You can create it using a text editor or via the command line. For example:\n"
   ]
  },
  {
   "cell_type": "markdown",
   "id": "909eb69b-6b27-429d-aa05-2c3ee9d8835a",
   "metadata": {},
   "source": [
    "### touch .gitignore\n"
   ]
  },
  {
   "cell_type": "markdown",
   "id": "9a6bd68a-85dd-4a53-8260-a60e82a96b97",
   "metadata": {},
   "source": [
    "\n",
    "6. **Add and Commit Changes:**  \n",
    "Add the README file and .gitignore file (if created) to the staging area and commit them to the repository:\n"
   ]
  },
  {
   "cell_type": "markdown",
   "id": "c5e94194-0839-4698-8d05-e856f8510a29",
   "metadata": {},
   "source": [
    "### git add README.md\n",
    "###    git add .gitignore # if created\n",
    "### git commit -m \"Initial commit: Added README and .gitignore\""
   ]
  },
  {
   "cell_type": "markdown",
   "id": "db0aa274-8e2c-4e0e-a399-fb2e1e2c9358",
   "metadata": {},
   "source": [
    "\n",
    "7. **Create Remote Repository (Optional):**  \n",
    "If you want to push your local repository to a remote repository (e.g., GitHub), you need to create one on the respective platform and then link it to your local repository. Follow the instructions provided by the platform to create a new repository.\n",
    "\n",
    "8. **Link Local Repository to Remote (Optional):**  \n",
    "Once you have created a remote repository, you can add it as a remote and push your local changes to it. For example, if your remote repository is on GitHub:\n"
   ]
  },
  {
   "cell_type": "markdown",
   "id": "be208afe-1ba7-4bc1-893a-dcdcfc7a4bc0",
   "metadata": {},
   "source": [
    "### git remote add origin <remote_repository_url>\n",
    "### git push -u origin master"
   ]
  },
  {
   "cell_type": "markdown",
   "id": "b3392794-6340-4aa3-a9c9-d0fe72beb403",
   "metadata": {},
   "source": [
    "# <p style=\"padding:10px;background-color:#87CEEB ;margin:10;color:#000000;font-family:newtimeroman;font-size:100%;text-align:center;border-radius: 10px 10px ;overflow:hidden;font-weight:50\">Question 2</p>"
   ]
  },
  {
   "cell_type": "markdown",
   "id": "9b0edbc8-a939-4eb1-aebb-80d2eda11d1a",
   "metadata": {},
   "source": [
    "# Q2. Create a separate environment so that you do not mess up with your base environment."
   ]
  },
  {
   "cell_type": "markdown",
   "id": "e4a246b0-b5bb-420b-85bb-781433423b71",
   "metadata": {},
   "source": [
    "# Breast Cancer Detection Project\n",
    "\n",
    "## Overview\n",
    "This project aims to develop a machine learning model for the detection of breast cancer using the breast cancer dataset from scikit-learn.\n",
    "\n",
    "## Setting Up a Separate Environment\n",
    "To create a separate environment for your project, you can use virtual environments. Here's how you can create a new environment using conda, assuming you have Anaconda or Miniconda installed:\n",
    "\n",
    "1. **Open Terminal/Command Prompt:**  \n",
    "   Open your terminal or command prompt.\n",
    "\n",
    "2. **Create a New Environment:**  \n",
    "   Use the following command to create a new environment named `breast_cancer_env`:\n",
    "\n",
    "This command creates a new environment with Python 3.8. You can replace `breast_cancer_env` with any name you prefer for your environment.\n",
    "\n",
    "3. **Activate the Environment:**  \n",
    "Activate the newly created environment using the following command:\n",
    "\n",
    "Once activated, your terminal prompt will change to show the name of the activated environment.\n",
    "\n",
    "4. **Install Required Packages:**  \n",
    "Install the necessary packages for your project. For example, if you're using scikit-learn for your breast cancer detection project, you can install it using:\n",
    "\n",
    "\n",
    "5. **Verify Installation:**  \n",
    "You can verify that the packages are installed correctly by running:\n",
    "\n",
    "This will display all the packages installed in your current environment.\n",
    "\n",
    "6. **Deactivate the Environment (Optional):**  \n",
    "Once you're done working on your project, you can deactivate the environment using:\n",
    "\n",
    "This will return you to your base environment.\n",
    "\n",
    "By creating a separate environment for your project, you can ensure that you don't mess up with your base environment and manage project dependencies more effectively.\n"
   ]
  },
  {
   "cell_type": "markdown",
   "id": "d5865b6e-9245-43d8-9096-2091e924d3f7",
   "metadata": {},
   "source": [
    "# <p style=\"padding:10px;background-color:#87CEEB ;margin:10;color:#000000;font-family:newtimeroman;font-size:100%;text-align:center;border-radius: 10px 10px ;overflow:hidden;font-weight:50\">Question 4</p>"
   ]
  },
  {
   "cell_type": "markdown",
   "id": "21848ecb-c77c-49de-a760-9593bd6acad8",
   "metadata": {},
   "source": [
    "# Q4. Create the folder structure/directories and files using the python program required for a ML project.\n",
    "- You can refer the following project structure.\n",
    "< sr3\n",
    ", __init__.py\n",
    ", logger.py\n",
    ", exception.py\n",
    ", utils.py\n",
    ", components\n",
    ", __init__.py\n",
    ", \"data_ingestion.py\n",
    ", \"data_transformation.py\n",
    ", 'model_trainer.py\n",
    ", pipeline\n",
    ", __init__.py\n",
    ", predict_pipeline.py\n",
    ", train_pipeline.py\n",
    "< import_data.py\n",
    "< setup.py\n",
    "< notebook\n",
    "< requirements.txt\n",
    "After this update the created folders and files to your git repository by pushing fro\\ your end and add\n",
    "following files fro\\ github and pull it to your source codeF\n",
    ", README!\n",
    ", LICENCES\n",
    ", .gitignore"
   ]
  },
  {
   "cell_type": "code",
   "execution_count": 30,
   "id": "3b9dde88-e8be-4b91-8734-dfbb3eb8de62",
   "metadata": {},
   "outputs": [],
   "source": [
    "import os\n",
    "\n",
    "def create_project_structure():\n",
    "    # Define project structure\n",
    "    project_structure = {\n",
    "        'src': {\n",
    "            '__init__.py': '',\n",
    "            'logger.py': '',\n",
    "            'exception.py': '',\n",
    "            'utils.py': '',\n",
    "            'components': {\n",
    "                '__init__.py': '',\n",
    "                'data_ingestion.py': '',\n",
    "                'data_transformation.py': '',\n",
    "                'model_trainer.py': ''\n",
    "            },\n",
    "            'pipeline': {\n",
    "                '__init__.py': '',\n",
    "                'predict_pipeline.py': '',\n",
    "                'train_pipeline.py': ''\n",
    "            }\n",
    "        },\n",
    "        'import_data.py': '',\n",
    "        'setup.py': '',\n",
    "        'notebook': {},\n",
    "        'requirements.txt': ''\n",
    "    }\n",
    "    \n",
    "    # Create project structure\n",
    "    for directory, contents in project_structure.items():\n",
    "        if isinstance(contents, dict):  # If directory\n",
    "            os.makedirs(directory, exist_ok=True)\n",
    "        else:  # If file\n",
    "            with open(directory, 'w') as f:\n",
    "                f.write(contents)\n",
    "\n",
    "if __name__ == \"__main__\":\n",
    "    create_project_structure()\n"
   ]
  },
  {
   "cell_type": "markdown",
   "id": "29a7cb21-75c5-4527-9166-142da7b99b40",
   "metadata": {},
   "source": [
    "# <p style=\"padding:10px;background-color:#87CEEB ;margin:10;color:#000000;font-family:newtimeroman;font-size:100%;text-align:center;border-radius: 10px 10px ;overflow:hidden;font-weight:50\">Question 5</p>"
   ]
  },
  {
   "cell_type": "markdown",
   "id": "e623bee6-cabd-41bb-a0cf-6c0185dfc588",
   "metadata": {},
   "source": [
    "# Q5.  write the logging function in logger.py and exception function in exception.py file to be used for the project to track the progress when the ML project is run and to raise any exception when encountered."
   ]
  },
  {
   "cell_type": "code",
   "execution_count": 34,
   "id": "d6813544-de16-42ad-92e6-626eb01e90ca",
   "metadata": {},
   "outputs": [],
   "source": [
    "import logging\n",
    "\n",
    "def setup_logger(log_file='output.log'):\n",
    "    \"\"\"Set up the logger to log information to a file.\"\"\"\n",
    "    logging.basicConfig(filename=log_file, level=logging.INFO, format='%(asctime)s - %(levelname)s - %(message)s')\n",
    "\n",
    "def log_info(message):\n",
    "    \"\"\"Log informational messages.\"\"\"\n",
    "    logging.info(message)\n",
    "\n",
    "def log_error(message):\n",
    "    \"\"\"Log error messages.\"\"\"\n",
    "    logging.error(message)\n"
   ]
  },
  {
   "cell_type": "code",
   "execution_count": 35,
   "id": "ed8d4490-2e20-467f-894f-1c8155c5bf3c",
   "metadata": {},
   "outputs": [],
   "source": [
    "class CustomException(Exception):\n",
    "    \"\"\"Custom exception class for ML project.\"\"\"\n",
    "\n",
    "    def __init__(self, message=\"An exception occurred in the ML project.\"):\n",
    "        self.message = message\n",
    "        super().__init__(self.message)\n"
   ]
  },
  {
   "cell_type": "code",
   "execution_count": 39,
   "id": "a5291b51-4632-462d-9535-4f04675fc015",
   "metadata": {},
   "outputs": [
    {
     "ename": "ModuleNotFoundError",
     "evalue": "No module named 'logger'",
     "output_type": "error",
     "traceback": [
      "\u001b[0;31m---------------------------------------------------------------------------\u001b[0m",
      "\u001b[0;31mModuleNotFoundError\u001b[0m                       Traceback (most recent call last)",
      "Cell \u001b[0;32mIn[39], line 5\u001b[0m\n\u001b[1;32m      2\u001b[0m sys\u001b[38;5;241m.\u001b[39mpath\u001b[38;5;241m.\u001b[39mappend(\u001b[38;5;124m'\u001b[39m\u001b[38;5;124m/path/to/directory/containing_logger.py\u001b[39m\u001b[38;5;124m'\u001b[39m)  \u001b[38;5;66;03m# Replace '/path/to/directory/containing_logger.py' with the actual path\u001b[39;00m\n\u001b[1;32m      4\u001b[0m \u001b[38;5;66;03m# Now you can import logger functions\u001b[39;00m\n\u001b[0;32m----> 5\u001b[0m \u001b[38;5;28;01mfrom\u001b[39;00m \u001b[38;5;21;01mlogger\u001b[39;00m \u001b[38;5;28;01mimport\u001b[39;00m setup_logger, log_info, log_error\n\u001b[1;32m      7\u001b[0m \u001b[38;5;66;03m# Set up logger\u001b[39;00m\n\u001b[1;32m      8\u001b[0m setup_logger()\n",
      "\u001b[0;31mModuleNotFoundError\u001b[0m: No module named 'logger'"
     ]
    }
   ],
   "source": [
    "import sys\n",
    "sys.path.append('/path/to/directory/containing_logger.py')  # Replace '/path/to/directory/containing_logger.py' with the actual path\n",
    "\n",
    "# Now you can import logger functions\n",
    "from logger import setup_logger, log_info, log_error\n",
    "\n",
    "# Set up logger\n",
    "setup_logger()\n",
    "\n",
    "# Log information\n",
    "log_info(\"Processing data...\")\n",
    "\n",
    "# Log error\n",
    "try:\n",
    "    # Your code that may raise an exception\n",
    "    raise CustomException(\"Data processing failed.\")\n",
    "except CustomException as e:\n",
    "    log_error(str(e))\n"
   ]
  },
  {
   "cell_type": "markdown",
   "id": "5b25513f-2dff-4ce6-b60f-1822d0d4fc6d",
   "metadata": {},
   "source": [
    "# <p style=\"padding:10px;background-color:#87CEEB ;margin:10;color:#000000;font-family:newtimeroman;font-size:100%;text-align:center;border-radius: 10px 10px ;overflow:hidden;font-weight:50\">Question 7</p>"
   ]
  },
  {
   "cell_type": "markdown",
   "id": "923cc80c-5dac-490d-9e05-9718832e572a",
   "metadata": {},
   "source": [
    "# Q7. In the notebook folder create a jupyter notebook inside it and do the following with the dataset.\n",
    "*  Exploratory data analysis\n",
    "*  Feature engineering\n",
    "*  Model training\n",
    "*  Selection of best model using metric|"
   ]
  },
  {
   "cell_type": "code",
   "execution_count": null,
   "id": "fd6690be-60c1-4549-8d01-c52ffc303842",
   "metadata": {},
   "outputs": [],
   "source": [
    "# Import necessary libraries\n",
    "import pandas as pd\n",
    "import numpy as np\n",
    "import matplotlib.pyplot as plt\n",
    "import seaborn as sns\n",
    "from sklearn.model_selection import train_test_split\n",
    "from sklearn.preprocessing import StandardScaler\n",
    "from sklearn.ensemble import RandomForestClassifier\n",
    "from sklearn.metrics import accuracy_score, confusion_matrix, classification_report\n",
    "\n",
    "# Load the dataset (assuming you have already loaded it)\n",
    "# Replace 'data' with your actual dataset\n",
    "data = pd.read_csv('breast cancer detection.csv')\n",
    "\n",
    "# Exploratory Data Analysis\n",
    "# Display basic information about the dataset\n",
    "print(\"Dataset Information:\")\n",
    "print(data.info())\n",
    "\n",
    "# Display summary statistics\n",
    "print(\"\\nSummary Statistics:\")\n",
    "print(data.describe())\n",
    "\n",
    "# Visualize class distribution\n",
    "plt.figure(figsize=(8, 6))\n",
    "sns.countplot(x='target_column', data=data)\n",
    "plt.title('Class Distribution')\n",
    "plt.show()\n",
    "\n",
    "# Feature Engineering\n",
    "# Assuming you perform some feature engineering steps here\n",
    "\n",
    "# Split data into features and target\n",
    "X = data.drop('target_column', axis=1)\n",
    "y = data['target_column']\n",
    "\n",
    "# Train-test split\n",
    "X_train, X_test, y_train, y_test = train_test_split(X, y, test_size=0.2, random_state=42)\n",
    "\n",
    "# Feature scaling\n",
    "scaler = StandardScaler()\n",
    "X_train_scaled = scaler.fit_transform(X_train)\n",
    "X_test_scaled = scaler.transform(X_test)\n",
    "\n",
    "# Model Training\n",
    "# Using RandomForestClassifier as an example\n",
    "model = RandomForestClassifier(n_estimators=100, random_state=42)\n",
    "model.fit(X_train_scaled, y_train)\n",
    "\n",
    "# Prediction\n",
    "y_pred = model.predict(X_test_scaled)\n",
    "\n",
    "# Evaluation\n",
    "print(\"\\nAccuracy Score:\", accuracy_score(y_test, y_pred))\n",
    "print(\"\\nConfusion Matrix:\")\n",
    "print(confusion_matrix(y_test, y_pred))\n",
    "print(\"\\nClassification Report:\")\n",
    "print(classification_report(y_test, y_pred))\n"
   ]
  },
  {
   "cell_type": "markdown",
   "id": "63c9c71e-6d60-4246-b448-1fd244f0eac1",
   "metadata": {},
   "source": [
    "# <p style=\"padding:10px;background-color:#87CEEB ;margin:10;color:#000000;font-family:newtimeroman;font-size:100%;text-align:center;border-radius: 10px 10px ;overflow:hidden;font-weight:50\">Question 8</p>"
   ]
  },
  {
   "cell_type": "markdown",
   "id": "5bdbc456-eae0-469d-96b5-9f208ac787ef",
   "metadata": {},
   "source": [
    "# Q8. Write a separate python program import_data.py file to load the mentioned dataset from from sklearn.load_dataset.load_breast_cancer to your mongodb"
   ]
  },
  {
   "cell_type": "code",
   "execution_count": null,
   "id": "11af4beb-6bad-4af5-9f76-7c8bf0ba43eb",
   "metadata": {},
   "outputs": [],
   "source": [
    "from sklearn.datasets import load_breast_cancer\n",
    "from pymongo import MongoClient\n",
    "\n",
    "def import_data_to_mongodb():\n",
    "    # Load the breast cancer dataset\n",
    "    data = load_breast_cancer()\n",
    "    \n",
    "    # Connect to MongoDB\n",
    "    client = MongoClient('mongodb://localhost:27017/')  # Modify connection string if needed\n",
    "    db = client['your_database']  # Replace 'your_database' with your database name\n",
    "    collection = db['breast_cancer_data']  # Collection name\n",
    "    \n",
    "    # Convert data to dictionary format\n",
    "    records = data.data.tolist()\n",
    "    for i, record in enumerate(records):\n",
    "        records[i] = {str(idx): val for idx, val in enumerate(record)}\n",
    "        records[i]['target'] = int(data.target[i])\n",
    "    \n",
    "    # Insert data into MongoDB collection\n",
    "    collection.insert_many(records)\n",
    "    \n",
    "    print(\"Data imported successfully to MongoDB.\")\n",
    "\n",
    "if __name__ == \"__main__\":\n",
    "    import_data_to_mongodb()\n"
   ]
  },
  {
   "cell_type": "markdown",
   "id": "30b2f035-eec7-4917-8f51-bb0fa10f57e4",
   "metadata": {},
   "source": [
    "# <p style=\"padding:10px;background-color:#87CEEB ;margin:10;color:#000000;font-family:newtimeroman;font-size:100%;text-align:center;border-radius: 10px 10px ;overflow:hidden;font-weight:50\">Question 9</p>"
   ]
  },
  {
   "cell_type": "markdown",
   "id": "4ea65389-1750-4922-9fdd-9280af184b84",
   "metadata": {},
   "source": [
    "# Q9. in data_ingestion.py write a program to load the same dataset from the mongodb to your system in dtaframe format"
   ]
  },
  {
   "cell_type": "code",
   "execution_count": null,
   "id": "49f26f16-ca10-486a-9447-3eedd2f90c1a",
   "metadata": {},
   "outputs": [],
   "source": [
    "import pandas as pd\n",
    "from pymongo import MongoClient\n",
    "\n",
    "def load_data_from_mongodb(database, collection):\n",
    "    # Connect to MongoDB\n",
    "    client = MongoClient('mongodb://localhost:27017/')  # Modify connection string if needed\n",
    "    db = client[database]\n",
    "    col = db[collection]\n",
    "    \n",
    "    # Retrieve data from MongoDB\n",
    "    cursor = col.find()\n",
    "    data = list(cursor)\n",
    "    \n",
    "    # Convert data to DataFrame format\n",
    "    df = pd.DataFrame(data)\n",
    "    \n",
    "    # Drop the \"_id\" column added by MongoDB\n",
    "    df.drop('_id', axis=1, inplace=True)\n",
    "    \n",
    "    return df\n",
    "\n",
    "if __name__ == \"__main__\":\n",
    "    # Load data from MongoDB into DataFrame\n",
    "    database_name = 'your_database'  # Replace 'your_database' with your actual database name\n",
    "    collection_name = 'breast_cancer_data'  # Replace 'breast_cancer_data' with your actual collection name\n",
    "    df = load_data_from_mongodb(database_name, collection_name)\n",
    "    \n",
    "    # Display the DataFrame\n",
    "    print(\"Data loaded from MongoDB:\")\n",
    "    print(df.head())\n"
   ]
  },
  {
   "cell_type": "markdown",
   "id": "913a6568-b453-443a-8283-82c5ed88e39c",
   "metadata": {},
   "source": [
    "# <p style=\"padding:10px;background-color:#87CEEB ;margin:10;color:#000000;font-family:newtimeroman;font-size:100%;text-align:center;border-radius: 10px 10px ;overflow:hidden;font-weight:50\">Question 10</p>"
   ]
  },
  {
   "cell_type": "markdown",
   "id": "4663d8a2-83a5-46c1-932a-5a59a0df67e1",
   "metadata": {},
   "source": [
    "# Q10. do the necessary feature engineering part in the data_transformation.py"
   ]
  },
  {
   "cell_type": "code",
   "execution_count": null,
   "id": "ea95b706-a5d7-49d5-a027-6af61d2249cc",
   "metadata": {},
   "outputs": [],
   "source": [
    "import pandas as pd\n",
    "from sklearn.preprocessing import StandardScaler\n",
    "\n",
    "def feature_engineering(df):\n",
    "    # Perform necessary feature engineering steps\n",
    "    \n",
    "    # For example, let's assume we want to scale the features using StandardScaler\n",
    "    scaler = StandardScaler()\n",
    "    scaled_features = scaler.fit_transform(df.drop('target_column', axis=1))\n",
    "    \n",
    "    # Convert the scaled features array back to a DataFrame\n",
    "    df_scaled = pd.DataFrame(scaled_features, columns=df.columns[:-1])  # Assuming the last column is the target column\n",
    "    \n",
    "    # Concatenate the scaled features DataFrame with the target column\n",
    "    df_transformed = pd.concat([df_scaled, df['target_column']], axis=1)\n",
    "    \n",
    "    return df_transformed\n",
    "\n",
    "if __name__ == \"__main__\":\n",
    "    # Load the dataset (assuming you have already loaded it into a DataFrame named 'df')\n",
    "    # Replace 'df' with your actual DataFrame containing the dataset\n",
    "    \n",
    "    # Perform feature engineering\n",
    "    df_transformed = feature_engineering(df)\n",
    "    \n",
    "    # Display the transformed DataFrame\n",
    "    print(\"Transformed DataFrame:\")\n",
    "    print(df_transformed.head())\n"
   ]
  },
  {
   "cell_type": "markdown",
   "id": "592607b3-7134-48d9-9d7b-ba370d0ce432",
   "metadata": {},
   "source": [
    "# <p style=\"padding:10px;background-color:#87CEEB ;margin:10;color:#000000;font-family:newtimeroman;font-size:100%;text-align:center;border-radius: 10px 10px ;overflow:hidden;font-weight:50\">Question 11</p>"
   ]
  },
  {
   "cell_type": "markdown",
   "id": "c3b03ef0-4d37-471d-9bfd-3005ffe57b35",
   "metadata": {},
   "source": [
    "# Q11. create the machine learning model in model_trainer.py"
   ]
  },
  {
   "cell_type": "code",
   "execution_count": null,
   "id": "d52908e2-9663-41ba-a868-c36c011c8475",
   "metadata": {},
   "outputs": [],
   "source": [
    "from sklearn.ensemble import RandomForestClassifier\n",
    "from sklearn.model_selection import train_test_split\n",
    "from sklearn.metrics import accuracy_score\n",
    "\n",
    "def train_model(df):\n",
    "    # Split data into features and target\n",
    "    X = df.drop('target_column', axis=1)\n",
    "    y = df['target_column']\n",
    "    \n",
    "    # Train-test split\n",
    "    X_train, X_test, y_train, y_test = train_test_split(X, y, test_size=0.2, random_state=42)\n",
    "    \n",
    "    # Initialize the model (RandomForestClassifier as an example)\n",
    "    model = RandomForestClassifier(n_estimators=100, random_state=42)\n",
    "    \n",
    "    # Train the model\n",
    "    model.fit(X_train, y_train)\n",
    "    \n",
    "    # Make predictions\n",
    "    y_pred = model.predict(X_test)\n",
    "    \n",
    "    # Calculate accuracy\n",
    "    accuracy = accuracy_score(y_test, y_pred)\n",
    "    \n",
    "    return model, accuracy\n",
    "\n",
    "if __name__ == \"__main__\":\n",
    "    # Load the transformed dataset (assuming you have already loaded it into a DataFrame named 'df')\n",
    "    # Replace 'df' with your actual DataFrame containing the transformed dataset\n",
    "    \n",
    "    # Train the model\n",
    "    trained_model, accuracy = train_model(df)\n",
    "    \n",
    "    # Print accuracy\n",
    "    print(\"Model trained with accuracy:\", accuracy)\n"
   ]
  },
  {
   "cell_type": "markdown",
   "id": "88fc5f34-358f-4dc4-bc11-24758e6673a9",
   "metadata": {},
   "source": [
    "# <p style=\"padding:10px;background-color:#87CEEB ;margin:10;color:#000000;font-family:newtimeroman;font-size:100%;text-align:center;border-radius: 10px 10px ;overflow:hidden;font-weight:50\">Question 12</p>"
   ]
  },
  {
   "cell_type": "markdown",
   "id": "24f8e76e-885c-4262-b35c-8f3a62dd28ef",
   "metadata": {},
   "source": [
    "# Q12.use the flask to deploy the project."
   ]
  },
  {
   "cell_type": "code",
   "execution_count": 44,
   "id": "385c5f3e-4037-4188-8f3b-a3a7fc4a32fd",
   "metadata": {},
   "outputs": [
    {
     "name": "stdout",
     "output_type": "stream",
     "text": [
      "Collecting Flask\n",
      "  Downloading flask-3.0.2-py3-none-any.whl (101 kB)\n",
      "\u001b[2K     \u001b[90m━━━━━━━━━━━━━━━━━━━━━━━━━━━━━━━━━━━━━━━\u001b[0m \u001b[32m101.3/101.3 kB\u001b[0m \u001b[31m3.9 MB/s\u001b[0m eta \u001b[36m0:00:00\u001b[0m\n",
      "\u001b[?25hCollecting itsdangerous>=2.1.2\n",
      "  Downloading itsdangerous-2.1.2-py3-none-any.whl (15 kB)\n",
      "Requirement already satisfied: Jinja2>=3.1.2 in /opt/conda/lib/python3.10/site-packages (from Flask) (3.1.2)\n",
      "Collecting Werkzeug>=3.0.0\n",
      "  Downloading werkzeug-3.0.1-py3-none-any.whl (226 kB)\n",
      "\u001b[2K     \u001b[90m━━━━━━━━━━━━━━━━━━━━━━━━━━━━━━━━━━━━━━\u001b[0m \u001b[32m226.7/226.7 kB\u001b[0m \u001b[31m24.5 MB/s\u001b[0m eta \u001b[36m0:00:00\u001b[0m\n",
      "\u001b[?25hCollecting blinker>=1.6.2\n",
      "  Downloading blinker-1.7.0-py3-none-any.whl (13 kB)\n",
      "Requirement already satisfied: click>=8.1.3 in /opt/conda/lib/python3.10/site-packages (from Flask) (8.1.3)\n",
      "Requirement already satisfied: MarkupSafe>=2.0 in /opt/conda/lib/python3.10/site-packages (from Jinja2>=3.1.2->Flask) (2.1.1)\n",
      "Installing collected packages: Werkzeug, itsdangerous, blinker, Flask\n",
      "  Attempting uninstall: blinker\n",
      "    Found existing installation: blinker 1.5\n",
      "    Uninstalling blinker-1.5:\n",
      "      Successfully uninstalled blinker-1.5\n",
      "Successfully installed Flask-3.0.2 Werkzeug-3.0.1 blinker-1.7.0 itsdangerous-2.1.2\n",
      "Note: you may need to restart the kernel to use updated packages.\n"
     ]
    }
   ],
   "source": [
    "pip install Flask\n"
   ]
  },
  {
   "cell_type": "code",
   "execution_count": null,
   "id": "564d48d9-2f86-4793-bf16-dda88d72012a",
   "metadata": {},
   "outputs": [],
   "source": [
    "from flask import Flask, request, jsonify\n",
    "from model_trainer import train_model  # Import your train_model function\n",
    "\n",
    "app = Flask(__name__)\n",
    "\n",
    "# Load your trained model\n",
    "trained_model, _ = train_model()  # Load the trained model\n",
    "\n",
    "@app.route('/predict', methods=['POST'])\n",
    "def predict():\n",
    "    data = request.get_json()  # Get data from request\n",
    "    # Perform necessary preprocessing on data (if any)\n",
    "    # Make predictions using your trained model\n",
    "    predictions = trained_model.predict(data['features'])\n",
    "    # Return predictions as JSON\n",
    "    return jsonify({'predictions': predictions.tolist()})\n",
    "\n",
    "if __name__ == '__main__':\n",
    "    app.run(debug=True)\n"
   ]
  },
  {
   "cell_type": "code",
   "execution_count": null,
   "id": "f65b9531-266e-41ff-81fb-303522dd1786",
   "metadata": {},
   "outputs": [],
   "source": [
    "python app.py\n"
   ]
  },
  {
   "cell_type": "code",
   "execution_count": null,
   "id": "ffb795fd-c507-4f66-914e-b87f1baa96bf",
   "metadata": {},
   "outputs": [],
   "source": [
    "import requests\n",
    "import json\n",
    "\n",
    "url = 'http://127.0.0.1:5000/predict'  # URL of your Flask app\n",
    "\n",
    "# Example feature data\n",
    "data = {'features': [[1, 2, 3, 4, 5, 6, 7, 8, 9, 10]]}\n",
    "\n",
    "# Send POST request to the Flask app\n",
    "response = requests.post(url, json=data)\n",
    "\n",
    "# Print the predictions returned by the API\n",
    "print(json.loads(response.content))\n"
   ]
  },
  {
   "cell_type": "code",
   "execution_count": null,
   "id": "edec2058-9f9a-4808-bc47-6c7d5eb49a0a",
   "metadata": {},
   "outputs": [],
   "source": []
  },
  {
   "cell_type": "code",
   "execution_count": null,
   "id": "e6983086-91ef-46c6-af20-42e7b174f8bc",
   "metadata": {},
   "outputs": [],
   "source": []
  }
 ],
 "metadata": {
  "kernelspec": {
   "display_name": "Python 3 (ipykernel)",
   "language": "python",
   "name": "python3"
  },
  "language_info": {
   "codemirror_mode": {
    "name": "ipython",
    "version": 3
   },
   "file_extension": ".py",
   "mimetype": "text/x-python",
   "name": "python",
   "nbconvert_exporter": "python",
   "pygments_lexer": "ipython3",
   "version": "3.10.8"
  }
 },
 "nbformat": 4,
 "nbformat_minor": 5
}
